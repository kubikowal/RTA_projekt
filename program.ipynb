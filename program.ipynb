{
 "cells": [
  {
   "cell_type": "code",
   "execution_count": 1,
   "id": "979f377a-f801-4651-b691-ca17ab2a676d",
   "metadata": {},
   "outputs": [],
   "source": [
    "# Uruchom nasłuch i prace na danych\n",
    "import subprocess\n",
    "consumer=subprocess.Popen(['python','consumer.py'])"
   ]
  },
  {
   "cell_type": "code",
   "execution_count": 2,
   "id": "7efdf658-bdff-4f64-8a66-38bcc1edf5b4",
   "metadata": {},
   "outputs": [],
   "source": [
    "consumer.kill()"
   ]
  },
  {
   "cell_type": "code",
   "execution_count": null,
   "id": "362fd9c2-6f16-492d-a47f-fac63fbd90c0",
   "metadata": {},
   "outputs": [],
   "source": [
    "# Uruchom pobieranie danych z zewnętrznego API\n",
    "producer=subprocess.Popen(['python','producer.py'])"
   ]
  },
  {
   "cell_type": "code",
   "execution_count": null,
   "id": "b53a735a-ef3a-4daa-b69b-5b80cf785f41",
   "metadata": {},
   "outputs": [],
   "source": [
    "producer.kill()"
   ]
  },
  {
   "cell_type": "code",
   "execution_count": 10,
   "id": "2a4d9c04-10b8-4a22-9d60-b791d6f8faba",
   "metadata": {},
   "outputs": [],
   "source": [
    "import pandas as pd\n",
    "\n",
    "# Wczytaj plik CSV, ale bez danych, tylko nagłówki\n",
    "df = pd.read_csv('weather_database.csv', nrows=0)\n",
    "\n",
    "# Zapisz nagłówki do nowego pliku CSV\n",
    "df.to_csv('weather_database.csv', index=False)"
   ]
  },
  {
   "cell_type": "code",
   "execution_count": null,
   "id": "8772d097-f2ce-4581-b23d-3cf488e7699e",
   "metadata": {},
   "outputs": [],
   "source": []
  }
 ],
 "metadata": {
  "kernelspec": {
   "display_name": "Python 3 (ipykernel)",
   "language": "python",
   "name": "python3"
  },
  "language_info": {
   "codemirror_mode": {
    "name": "ipython",
    "version": 3
   },
   "file_extension": ".py",
   "mimetype": "text/x-python",
   "name": "python",
   "nbconvert_exporter": "python",
   "pygments_lexer": "ipython3",
   "version": "3.11.5"
  }
 },
 "nbformat": 4,
 "nbformat_minor": 5
}
